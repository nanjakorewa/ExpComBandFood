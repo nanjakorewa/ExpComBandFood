{
 "cells": [
  {
   "cell_type": "code",
   "execution_count": 1,
   "metadata": {
    "collapsed": true
   },
   "outputs": [],
   "source": [
    "#!/usr/bin/env python\n",
    "# -*- coding: utf-8 -*-00\n",
    "import sys, os\n",
    "from setting import *\n",
    "\n",
    "import matplotlib.pyplot as plt\n",
    "import numpy as np\n",
    "import pandas as pd\n",
    "import random\n",
    "% matplotlib inline"
   ]
  },
  {
   "cell_type": "markdown",
   "metadata": {},
   "source": [
    "## combinatorial bandit\n",
    "- Combinatorial Bandit\n",
    "- http://homes.dsi.unimi.it/~cesabian/Pubblicazioni/comband.pdf"
   ]
  },
  {
   "cell_type": "code",
   "execution_count": 2,
   "metadata": {
    "collapsed": true
   },
   "outputs": [],
   "source": [
    "class ComBand:\n",
    "    def __init__(self, pipeline, decoder):\n",
    "        # Pipeline Parameter\n",
    "        self.decoder = decoder\n",
    "        self.allalgs = sum(pipeline, [])\n",
    "        self.algsInEachSteps = [len(step) for step in pipeline]\n",
    "        self.NPipelineSteps = len(self.algsInEachSteps)\n",
    "\n",
    "        # Combinatorial Bandit parameter\n",
    "        self.K = len(self.allalgs)\n",
    "        self.p = np.zeros(self.K)\n",
    "        self.q = np.zeros(self.K)+(1.0/self.K)\n",
    "        self.gamma = 0.2\n",
    "        self.mu = 0.2\n",
    "\n",
    "        # index for choice pipelines\n",
    "        self.step_index = [0]\n",
    "        for i, ni in enumerate(self.algsInEachSteps):\n",
    "            self.step_index += [ni + self.step_index[i]]\n",
    "\n",
    "        print(\"COMBAND, gamma:\", self.gamma, self.step_index)\n",
    "\n",
    "    def initialize(self, setting=None):\n",
    "        if setting is None:\n",
    "            pass\n",
    "        else:\n",
    "            # TODO\n",
    "            ## 実験設定を外部ファイルに出力して\n",
    "            ## 実験のパラメータを読み出せるようにする\n",
    "            pass\n",
    "\n",
    "    def save_parameter(self):\n",
    "        filename = get_id(prefix=\"ComBandParams\")\n",
    "        # TODO\n",
    "        ## パラメータの保存形式を決める\n",
    "\n",
    "    def get_E(self, k_vector):\n",
    "        edge = np.zeros([self.K, self.K])\n",
    "        node = np.argwhere(k_vector==1).flatten().tolist()\n",
    "\n",
    "        for i in range(self.NPipelineSteps-1):\n",
    "            node_i, node_j = node[i], node[i+1]\n",
    "            edge[node_i, node_j] = 1\n",
    "            edge[node_j, node_i] = 1\n",
    "\n",
    "        return edge\n",
    "\n",
    "    def get_next_path(self):\n",
    "        self.p = (1.0 - self.gamma)*self.q + self.gamma/self.K\n",
    "        pathI = []\n",
    "\n",
    "        for i in range(self.NPipelineSteps):\n",
    "            left, right = self.step_index[i], self.step_index[i+1]\n",
    "            temp = weighted_random_choice(self.p[left:right],\\\n",
    "                                          itemset=self.allalgs[left:right])\n",
    "            pathI += [temp]\n",
    "\n",
    "        return pathI\n",
    "\n",
    "    def update(self, path, score):\n",
    "        # calc loss for every edge\n",
    "        k_vector = np.array(self.decoder.decode(path)) # 1s\n",
    "        Eps = self.get_E(k_vector) # E{ps}\n",
    "        ones_ones_T = self.NPipelineSteps # [1s.1s^T]\n",
    "        InvP = np.linalg.pinv(Eps*ones_ones_T)\n",
    "\n",
    "        # TODO\n",
    "        ## lossが最小になるように計算を行っている\n",
    "        xhat = (-1.0)*score*(InvP.dot(k_vector))\n",
    "\n",
    "        # update parameter\n",
    "        for k in range(self.K):\n",
    "            q_tk = self.q[k] # q_t(k)\n",
    "            v_k = np.eye(self.K, dtype=int)[k] # v(k)\n",
    "            lt_vk = xhat.dot(v_k) # l_t v(k)\n",
    "            exp = np.exp((-1)*self.mu*lt_vk)\n",
    "            self.q[k] = q_tk * exp\n"
   ]
  },
  {
   "cell_type": "markdown",
   "metadata": {},
   "source": [
    "## Decoder\n",
    "パイプラインから $\\{0, 1\\}^d$ vector を作成"
   ]
  },
  {
   "cell_type": "code",
   "execution_count": 3,
   "metadata": {
    "collapsed": true
   },
   "outputs": [],
   "source": [
    "# {0, 1}^d vectorを取得\n",
    "class VectorDecoder:\n",
    "    def __init__(self, pipeline):\n",
    "        self.algnames = sum(pipeline, [])\n",
    "        self.algInEachSteps = [len(step) for step in pipeline]\n",
    "        self.d = len(self.algnames)\n",
    "        self.noneIndex = [i for i, x in enumerate(self.algnames) if x==NONE_NAME]\n",
    "        print(\"EXISTING ALGORITHMS:\", self.algnames)\n",
    "\n",
    "    def decode(self, alglist):\n",
    "        temp = np.zeros(self.d)\n",
    "\n",
    "        for i, algname_i in enumerate(alglist):\n",
    "            if algname_i==NONE_NAME:\n",
    "                # (None in i step) = 1\n",
    "                temp[self.noneIndex[i]] = 1\n",
    "            else:\n",
    "                # (algname in algnames) = 1\n",
    "                temp[self.algnames.index(algname_i)] = 1\n",
    "\n",
    "        return temp"
   ]
  },
  {
   "cell_type": "markdown",
   "metadata": {},
   "source": [
    "## Bandit Food\n",
    "### decoder のテスト + ComBandのテスト"
   ]
  },
  {
   "cell_type": "code",
   "execution_count": 4,
   "metadata": {
    "collapsed": false
   },
   "outputs": [
    {
     "name": "stdout",
     "output_type": "stream",
     "text": [
      "EXPERIMENTAL SETTINGS: 0\n",
      "Pipeline: [['raw food', 'peel'], ['diced', 'grind', 'chopped'], ['wash', 'wash & boil'], ['simmer', 'bake', 'gril']]\n"
     ]
    }
   ],
   "source": [
    "from food.experimental_settings import *\n",
    "from utils import *\n",
    "from tqdm import tqdm\n",
    "\n",
    "# import pipeline definition\n",
    "pipeline = get_exp_setting(0)\n",
    "print('Pipeline:', pipeline)"
   ]
  },
  {
   "cell_type": "code",
   "execution_count": 5,
   "metadata": {
    "collapsed": false
   },
   "outputs": [
    {
     "name": "stdout",
     "output_type": "stream",
     "text": [
      "EXISTING ALGORITHMS: ['raw food', 'peel', 'diced', 'grind', 'chopped', 'wash', 'wash & boil', 'simmer', 'bake', 'gril']\n"
     ]
    }
   ],
   "source": [
    "# vector decoder\n",
    "decoder = VectorDecoder(pipeline)"
   ]
  },
  {
   "cell_type": "code",
   "execution_count": 6,
   "metadata": {
    "collapsed": false
   },
   "outputs": [
    {
     "name": "stdout",
     "output_type": "stream",
     "text": [
      "COMBAND, gamma: 0.2 [0, 2, 5, 7, 10]\n"
     ]
    }
   ],
   "source": [
    "# setting comband\n",
    "bandit = ComBand(pipeline, decoder)"
   ]
  },
  {
   "cell_type": "markdown",
   "metadata": {},
   "source": [
    "### run bandit food"
   ]
  },
  {
   "cell_type": "code",
   "execution_count": 9,
   "metadata": {
    "collapsed": false
   },
   "outputs": [
    {
     "name": "stderr",
     "output_type": "stream",
     "text": [
      "100%|██████████| 10/10 [00:00<00:00, 1044.74it/s]"
     ]
    },
    {
     "name": "stdout",
     "output_type": "stream",
     "text": [
      "Start ComBand Pipeline Search!\n"
     ]
    },
    {
     "name": "stderr",
     "output_type": "stream",
     "text": [
      "\n"
     ]
    }
   ],
   "source": [
    "# history\n",
    "score = 0\n",
    "score_history = []\n",
    "experiment_name = get_id(prefix=\"ComBand\", suffix=\"\")\n",
    "logfile = open(\"report/\"+experiment_name+\".txt\", 'w')\n",
    "\n",
    "# exp setting\n",
    "food = \"yatsuhashi\"\n",
    "review = 0\n",
    "metricfunc = FIVE_STAGE_EVALUATION\n",
    "\n",
    "# random search\n",
    "print(\"Start ComBand Pipeline Search!\")\n",
    "for i in tqdm(range(10)):\n",
    "\n",
    "    # select pipeline\n",
    "    pathI = bandit.get_next_path()\n",
    "\n",
    "    # try to eval score\n",
    "    # score = get_pipeline_score(pathI, food, review, metricfunc)\n",
    "    score = np.random.randint(50, 100)\n",
    "    logfile.write(str(score)+\"\\n\")\n",
    "\n",
    "    # update bandit parameter\n",
    "    # FIX: socre have None if y has the same values.\n",
    "    if score is not None:\n",
    "        bandit.update(pathI, score)\n",
    "        score_history += [score]\n",
    "\n",
    "    # progress\n",
    "    if i%10==0 and i>0:\n",
    "        print(\"  Best score:\", np.max(score_history), np.mean(score_history))\n",
    "\n",
    "# close logfile\n",
    "logfile.close()"
   ]
  }
 ],
 "metadata": {
  "kernelspec": {
   "display_name": "Python 3",
   "language": "python",
   "name": "python3"
  },
  "language_info": {
   "codemirror_mode": {
    "name": "ipython",
    "version": 3
   },
   "file_extension": ".py",
   "mimetype": "text/x-python",
   "name": "python",
   "nbconvert_exporter": "python",
   "pygments_lexer": "ipython3",
   "version": "3.4.5"
  }
 },
 "nbformat": 4,
 "nbformat_minor": 2
}
